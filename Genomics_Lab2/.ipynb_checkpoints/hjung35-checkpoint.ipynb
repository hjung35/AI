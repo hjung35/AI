{
 "cells": [
  {
   "cell_type": "markdown",
   "metadata": {},
   "source": [
    "# Lab 2: Sequence Alignment"
   ]
  },
  {
   "cell_type": "markdown",
   "metadata": {},
   "source": [
    "### Name: Hyun Do Jung (hjung35)"
   ]
  },
  {
   "cell_type": "markdown",
   "metadata": {},
   "source": [
    "### Due November 18, 2020 11:59 PM"
   ]
  },
  {
   "cell_type": "markdown",
   "metadata": {},
   "source": [
    "#### Preamble (Don't change this)"
   ]
  },
  {
   "cell_type": "code",
   "execution_count": 1,
   "metadata": {},
   "outputs": [],
   "source": [
    "import re\n",
    "import random\n",
    "import matplotlib.pyplot as plt\n",
    "import seaborn as sns\n",
    "import pandas as pd\n",
    "import statsmodels.api as sm \n",
    "import numpy as np"
   ]
  },
  {
   "cell_type": "markdown",
   "metadata": {},
   "source": [
    "# Sequence Alignment"
   ]
  },
  {
   "cell_type": "markdown",
   "metadata": {},
   "source": [
    "In this lab, we will look into performing sequence alignment between genomic sequences.\n",
    "As we discussed in class, this is a key computational task in genomics.\n",
    "In particular, sequence alignment is used in the following two scenarios:\n",
    "* When we sequence the DNA of an organism that we have never sequenced before, we need to align the reads to each other in order to recover the entire genome.\n",
    "* When we sequence the DNA of an organism for which a reference genome is available (e.g., humans), we need to align the reads to the reference genome.\n",
    "\n",
    "Abstractly, in the sequence alignment problem, we are given two sequences $x$ and $y$, and we want to place gaps (represented by ‘-’) in $x$ and $y$ so that the resulting sequences “line up well”.\n",
    "For example, if $x = AGGCTAGTT$ and $y = AGCGAAGTTT$, a \"good\" alignment is \n",
    "\n",
    "``AGGC-TA-GTT-\n",
    "AG-CG-AAGTTT``\n",
    "\n",
    "As we discussed in class, the Smith-Waterman algorithm assigns scores/penalties to matches, mismatches, and gaps gaps, and then computes the alignment between the two sequences that maximizes the total score.\n",
    "\n",
    "The Smith-Waterman algorithm performs *local* sequence alignment. This means that we are looking for a substring of x and a substring of y with the largest possible alignment score.\n",
    "For example, if our scores are +1 for match, -1 for mismatch, -1 for gap and we want to align $x = CCCCGATTACAGGGG$ and $y = GGGGGATACACCCC$, then the best possible local alignment is\n",
    "\n",
    "``GATTACA\n",
    "GAT_ACA``\n",
    "\n",
    "which has score 6-1=5. Notice that the gaps in the beginning and in the end don't \n"
   ]
  },
  {
   "cell_type": "markdown",
   "metadata": {},
   "source": [
    "### PacBio data\n",
    "\n",
    "We will start with the same PacBio data from Lab 1. \n",
    "PacBio reads are typically long, and aligning them can be challenging in practice.\n",
    "The next three three cells (from Lab 1) load the PacBio data."
   ]
  },
  {
   "cell_type": "code",
   "execution_count": 2,
   "metadata": {},
   "outputs": [],
   "source": [
    "#reading PacBio data\n",
    "reads_pac=\"\"\n",
    "with open(\"ecoli_pac-bio.fasta\") as file :\n",
    "    reads_pac=file.read()"
   ]
  },
  {
   "cell_type": "code",
   "execution_count": 3,
   "metadata": {},
   "outputs": [],
   "source": [
    "#parsing PacBio data\n",
    "def parse_reads_pac(reads) :\n",
    "    line_reads_pac=reads_pac.split(\"\\n\")\n",
    "    line_reads_pac.pop()\n",
    "    n_pac=len(line_reads_pac)\n",
    "    i=0\n",
    "    dna_reads_pac=[]\n",
    "    while i < n_pac :\n",
    "        j=i+1\n",
    "        dr=\"\"\n",
    "        while j < n_pac  and line_reads_pac[j][0]!='>' :\n",
    "            dr+=line_reads_pac[j]\n",
    "            j+=1\n",
    "        dna_reads_pac.append(dr.upper())\n",
    "        i=j\n",
    "    return dna_reads_pac"
   ]
  },
  {
   "cell_type": "code",
   "execution_count": 4,
   "metadata": {},
   "outputs": [],
   "source": [
    "dna_reads_pac=parse_reads_pac(reads_pac)"
   ]
  },
  {
   "cell_type": "markdown",
   "metadata": {},
   "source": [
    "## Graded Function 1: smith_waterman_alignment  (10 marks)\n",
    "\n",
    "Purpose - To perform local sequence alignment between two DNA sequences and identify sequence similarity using the Smith-Waterman algorithm. You should calculate alignment score between every two points in the sequences and record the maximum score.\n",
    "\n",
    "Input - two sequences and a dictionary with penalties for match, mismatch and gap (e.g., `penalties={'match':1,'mismatch':-1,'gap':-1}`)\n",
    "\n",
    "Output - maximum Smith-Waterman local alignment score"
   ]
  },
  {
   "cell_type": "code",
   "execution_count": 5,
   "metadata": {},
   "outputs": [],
   "source": [
    "#calculating smith waterman alignment between 2 reads\n",
    "def smith_waterman_alignment(s1,s2,penalties) :\n",
    "    '''\n",
    "    Input - two sequences and a dictionary with penalities for match, mismatch and gap\n",
    "    Output - maximum smith waterman alignment score\n",
    "    '''\n",
    "    #start code here\n",
    "    m_val = penalties['match']\n",
    "    mm_val = penalties['mismatch']\n",
    "    g_val = penalties['gap']\n",
    "\n",
    "    H = np.zeros((len(s1)+1, len(s2)+1), dtype=np.int)\n",
    "    \n",
    "    def scoring(i, j):\n",
    "        H[i, j] = max(H[i-1,j] + g_val,\n",
    "                      H[i,j-1] + g_val,\n",
    "                      H[i-1,j-1] + (m_val if s1[i-1] == s2[j-1] else mm_val),\n",
    "                      0)\n",
    "        \n",
    "    [scoring(i,j) for i in range(1, H.shape[0]) for j in range(1, H.shape[1])]\n",
    "        \n",
    "    return H.max()\n",
    "    #end code here"
   ]
  },
  {
   "cell_type": "code",
   "execution_count": 6,
   "metadata": {},
   "outputs": [],
   "source": [
    "penalties={'match':1,'mismatch':-1,'gap':-1}"
   ]
  },
  {
   "cell_type": "code",
   "execution_count": 7,
   "metadata": {},
   "outputs": [
    {
     "name": "stdout",
     "output_type": "stream",
     "text": [
      "744\n",
      "1566\n"
     ]
    }
   ],
   "source": [
    "# Note this may take some time to compute\n",
    "print(smith_waterman_alignment(dna_reads_pac[0],dna_reads_pac[1],penalties))\n",
    "print(smith_waterman_alignment(dna_reads_pac[4],dna_reads_pac[9],penalties))"
   ]
  },
  {
   "cell_type": "markdown",
   "metadata": {},
   "source": [
    "### Expected Output - \n",
    "\n",
    "744\n",
    "\n",
    "1566"
   ]
  },
  {
   "cell_type": "markdown",
   "metadata": {},
   "source": [
    "As you noticed, finding the optimal alignment between two long PacBio reads takes a while. \n",
    "Imagine doing this for hundreds of thousands of reads!\n",
    "Some of the indexing techniques that we will explore later in this lab can be used in practice to accelerate this process."
   ]
  },
  {
   "cell_type": "markdown",
   "metadata": {},
   "source": [
    "## Graded Function 2: print_smith_waterman_alignment  (10 marks)\n",
    "\n",
    "Purpose - To perform local sequence alignment between two DNA sequences and print the resulting alignment in a nice fashion, like:\n",
    "\n",
    "``AGGC-TA-GTT-\n",
    "AG-CG-AAGTTT``\n",
    "\n",
    "Input - two sequences and a dictionary with penalities for match, mismatch and gap\n",
    "\n",
    "Output - two printed lines showing the two sequences with '-' representing the gaps"
   ]
  },
  {
   "cell_type": "code",
   "execution_count": 8,
   "metadata": {},
   "outputs": [],
   "source": [
    "#printing optimal alignment between two sequences\n",
    "def print_smith_waterman_alignment(s1,s2,penalties) :\n",
    "    '''\n",
    "    Input - two sequences and a dictionary with penalities for match, mismatch and gap\n",
    "    Output - two printed lines showing the alignment\n",
    "    '''\n",
    "    #start code here\n",
    "    m_val = penalties['match']\n",
    "    mm_val = penalties['mismatch']\n",
    "    g_val = penalties['gap']\n",
    "\n",
    "    H = np.zeros((len(s1)+1, len(s2)+1), dtype=np.int)\n",
    "    \n",
    "    def scoring(i, j):\n",
    "        H[i, j] = max(H[i-1,j] + g_val,\n",
    "                      H[i,j-1] + g_val,\n",
    "                      H[i-1,j-1] + (m_val if s1[i-1] == s2[j-1] else mm_val),\n",
    "                      0)\n",
    "        \n",
    "    [scoring(i,j) for i in range(1, H.shape[0]) for j in range(1, H.shape[1])]\n",
    "    \n",
    "    max_ij = np.unravel_index(H.argmax(), H.shape)\n",
    "    \n",
    "    s1_align = []\n",
    "    s2_align = []\n",
    "    \n",
    "    def backtracking(point):\n",
    "        i, j = point\n",
    "        tracks = {'ul': H[i-1,j-1], 'u': H[i-1,j], 'l': H[i,j-1]}\n",
    "        track = max(tracks.keys(), key=(lambda x:tracks[x]))\n",
    "        s1_align.append(s1[i-1] if 'u' in track else '-')\n",
    "        s2_align.append(s2[j-1] if 'l' in track else '-')\n",
    "        if max(tracks.values()) == 0: return\n",
    "        n_i = i-1 if 'u' in track else i\n",
    "        n_j = j-1 if 'l' in track else j\n",
    "        backtracking((n_i,n_j))\n",
    "    \n",
    "    backtracking(max_ij)\n",
    "    s1_align.reverse()\n",
    "    s2_align.reverse()\n",
    "    print(''.join(s1_align))\n",
    "    print(''.join(s2_align))   \n",
    "    #end code here"
   ]
  },
  {
   "cell_type": "code",
   "execution_count": 9,
   "metadata": {},
   "outputs": [
    {
     "name": "stdout",
     "output_type": "stream",
     "text": [
      "MIS-PEL\n",
      "MISSPEL\n"
     ]
    }
   ],
   "source": [
    "x = \"MISPEL\"\n",
    "y = \"MISSPELL\"\n",
    "print_smith_waterman_alignment(x,y,penalties)"
   ]
  },
  {
   "cell_type": "markdown",
   "metadata": {},
   "source": [
    "### Expected Output - \n",
    "\n",
    "``MIS-PEL\n",
    "MISSPEL``\n",
    "\n",
    "or \n",
    "\n",
    "``MI-SPEL\n",
    "MISSPEL``"
   ]
  },
  {
   "cell_type": "code",
   "execution_count": 10,
   "metadata": {},
   "outputs": [
    {
     "name": "stdout",
     "output_type": "stream",
     "text": [
      "TCGCAATATGCTAG\n",
      "TCGCAATCTGC-AG\n"
     ]
    }
   ],
   "source": [
    "penalties={'match':1,'mismatch':-1,'gap':-1}\n",
    "\n",
    "x = \"CTCGCAATATGCTAGCAGC\"\n",
    "y = \"GATCGCAATCTGCAGTCCG\"\n",
    "print_smith_waterman_alignment(x,y,penalties)"
   ]
  },
  {
   "cell_type": "markdown",
   "metadata": {},
   "source": [
    "### Expected Output - \n",
    "\n",
    "``TCGCAATATGCTAG\n",
    "TCGCAATCTGC-AG``"
   ]
  },
  {
   "cell_type": "markdown",
   "metadata": {},
   "source": [
    "# Aligning reads to a (long) genome\n",
    "\n",
    "While the Smith-Waterman algorithm can provide local alignments between two sequences of arbitrary lengths, it is too slow to be used to align reads to a long genome.\n",
    "As we discussed in class, when we are trying to align reads to a long genome, we typically rely on an indexing scheme (based on hash functions, or a Python dictionary) to quickly identify matches."
   ]
  },
  {
   "cell_type": "markdown",
   "metadata": {},
   "source": [
    "We will consider two genome files.\n",
    "The first one is a short fake genome in the file \"fakegenome.fasta\".\n",
    "\n",
    "The second one is the *Saccharomyces cerevisiae* (Brewer's yeast) genome.\n",
    "The *S. cerevisiae* genome was the first eukaryotic genome to be fully sequenced.\n",
    "It contains 16 chromosomes for a total genome length of about 12 million base-pairs."
   ]
  },
  {
   "cell_type": "code",
   "execution_count": 11,
   "metadata": {},
   "outputs": [],
   "source": [
    "fakegenome_file=\"\"\n",
    "with open(\"fakegenome.fasta\") as file:\n",
    "    fakegenome_file=file.read()\n",
    "\n",
    "saccha_file=\"\"\n",
    "with open(\"saccha.fasta\") as file:\n",
    "    saccha_file=file.read()"
   ]
  },
  {
   "cell_type": "code",
   "execution_count": 12,
   "metadata": {},
   "outputs": [
    {
     "name": "stdout",
     "output_type": "stream",
     "text": [
      ">chr1\n",
      "GATTACA\n",
      ">chr2\n",
      "CAGATTTACACATACA\n",
      ">chr3\n",
      "CACACACA\n",
      "\n",
      "\n",
      ">chr1\n",
      "CCACACCACACCCACACACCCACACACCACACCACACACCACACCACACCCACACACACA\n",
      "CATCCTAACACTACCCTAACACAGCCCTAATCTAACCCTGGCCAACCTGTCTCTCAACTT\n",
      "ACCCTCCATTACCCTGCCTCCACTCGTTACCCTGTCCCATTCAACCATACCACTCCGAAC\n",
      "CACCATCCATCCCTCTACTTACTACCACTCACCCACCGTTACCCTCCAATTACCCATATC\n",
      "CAACCCACTGCCACTTACCCTACCATTACCCTACCATCCACCATGACCTA\n"
     ]
    }
   ],
   "source": [
    "# let's print the fakegenome file and the beginning of the S. cerevisiae file:\n",
    "\n",
    "print(fakegenome_file)\n",
    "print()\n",
    "print(saccha_file[:300])"
   ]
  },
  {
   "cell_type": "markdown",
   "metadata": {},
   "source": [
    "Notice that the chromosomes are separated by a line that only contains \">chrN\", where N is the chromosome number"
   ]
  },
  {
   "cell_type": "markdown",
   "metadata": {},
   "source": [
    "## Graded Function 3 : find_exact_matches(list_of_reads,genome_file) (10 marks)\n",
    "\n",
    "Pupose - To check whether each of the reads in list_of_reads is present (exactly) somewhere in the genome and, if so, return the location. The location should be specified as \"chr2:120000\" (for a read that starts at position 120000 of chromosome 2)\n",
    "\n",
    "Input - list of reads **of the same length** and a genome fasta file (converted into a single string)\n",
    "\n",
    "Output - a list with the same length as list_of_reads, where the ith element is a list of all locations (starting positions) in the genome where the ith read appears. The starting positions should be specified using the \"chr2:120000\" format\n",
    "\n",
    "Note - Avoid using Python packages and built-in functions to do search operations (such as the find function). The goal of this problem is for you to understand how genome indices can be built to help finding matches."
   ]
  },
  {
   "cell_type": "code",
   "execution_count": 13,
   "metadata": {},
   "outputs": [],
   "source": [
    "def find_exact_matches(list_of_reads,genome):\n",
    "    #start code here\n",
    "    dna_list = [{'id':k[0], 'seq':''.join(k[1:])} for k in [x.split('\\n') for x in genome.split('>chr') if x]]\n",
    "    \n",
    "    results = [['chr{}:{}'.format(dna['id'], pos.start()+1) \n",
    "                for dna in dna_list for pos in re.finditer('(?=({}))'.format(pattern), dna['seq'])\n",
    "               if len(re.findall(pattern, dna['seq']))>0] for pattern in list_of_reads]\n",
    "    results = [x for x in results if len(x) > 0]\n",
    "    \n",
    "    return results\n",
    "    #end code here"
   ]
  },
  {
   "cell_type": "code",
   "execution_count": 14,
   "metadata": {},
   "outputs": [
    {
     "name": "stdout",
     "output_type": "stream",
     "text": [
      "[['chr1:1', 'chr2:3'], ['chr1:4', 'chr2:7', 'chr2:13'], ['chr2:9', 'chr3:1', 'chr3:3', 'chr3:5']]\n"
     ]
    }
   ],
   "source": [
    "list_of_fake_reads = ['GATT','TACA','CACA']\n",
    "print(find_exact_matches(list_of_fake_reads,fakegenome_file))"
   ]
  },
  {
   "cell_type": "markdown",
   "metadata": {},
   "source": [
    "### Expected Output - \n",
    "\n",
    "``[['chr1:1', 'chr2:3'], ['chr1:4', 'chr2:7', 'chr2:13'], ['chr2:9', 'chr3:1', 'chr3:3', 'chr3:5']]``"
   ]
  },
  {
   "cell_type": "code",
   "execution_count": 15,
   "metadata": {},
   "outputs": [
    {
     "name": "stdout",
     "output_type": "stream",
     "text": [
      "[['chr1:1'], ['chr1:35'], ['chr8:56', 'chr13:73'], ['chr2:753363']]\n"
     ]
    }
   ],
   "source": [
    "read0 = \"CCACACCACACCCACACACCCACACACCACACCACACACCACACCACACC\"\n",
    "read1 = \"CACACCACACCACACCCACACACACACATCCTAACACTACCCTAACACAG\"\n",
    "read2 = \"CTCGCTGTCACTCCTTACCCGGCTTTCTGACCGAAATTAAAAAAAAAAAA\"\n",
    "read3 = \"TTTAAACTTACGATTATGTGATTTGATGAGGTCAATCAACAGATTAACCA\"\n",
    "read4 = \"CTGTATGGCTATACGATTATGTGGGCTACCAACAGATTGGTCACTTTCCT\"\n",
    "read5 = \"GGGTCCGATGTTGGATTGAAATCCCAAGGTGCTATTTCTATATTTATATA\"\n",
    "list_of_reads = [read0,read1,read2,read3,read4]\n",
    "\n",
    "print(find_exact_matches(list_of_reads,saccha_file))"
   ]
  },
  {
   "cell_type": "markdown",
   "metadata": {},
   "source": [
    "# Aligning reads with errors/mutations to a (long) genome\n",
    "\n",
    "When the reads may have discrepancies with respect to the reference genome (which could be sequencing errors or mutations), we need to be more clever with our indexing.\n",
    "\n",
    "In the following, we will assume that each read can have at most **3** substitution errors with respect to the reference (i.e., at most three symbols may have been swapped).\n",
    "We will use the same two genome files (fakegenome_file and saccha_file) from above."
   ]
  },
  {
   "cell_type": "markdown",
   "metadata": {},
   "source": [
    "## Graded Function 4 : find_approximate_matches(list_of_reads,genome_file)(10 marks)\n",
    "\n",
    "Pupose - To check whether each of the reads in list_of_reads is present somewhere in the genome allowing at most **3** symbol differences and, if so, return the location. The location should be specified as \"chr2:120000\" (for a read that starts at position 120000 of chromosome 2)\n",
    "\n",
    "Input - list of reads **of the same length** and a genome fasta file (converted into a single string)\n",
    "\n",
    "Output - a list with the same length as list_of_reads, where the ith element is a list of all locations (starting positions) in the genome where the ith read appears approximately (up to 3 base differences)"
   ]
  },
  {
   "cell_type": "markdown",
   "metadata": {},
   "source": [
    "Note: to simplify the function below, you can assume that the read length is divisible by 4."
   ]
  },
  {
   "cell_type": "code",
   "execution_count": 16,
   "metadata": {},
   "outputs": [],
   "source": [
    "# You may want to use the following function (number_of_matches) in your graded function.\n",
    "# It assumes x and y have the same length and returns the number of positions where they agree\n",
    "#\n",
    "# e.g., number_of_matches(\"ACCTGA\",\"ACTTCA\") returns 4\n",
    "\n",
    "def number_of_matches(x,y):\n",
    "    \n",
    "    assert(len(x) == len(y)) # throw error if the lengths are different\n",
    "    \n",
    "    return sum([int(x[i]==y[i]) for i in range(len(x))])"
   ]
  },
  {
   "cell_type": "code",
   "execution_count": 17,
   "metadata": {},
   "outputs": [
    {
     "data": {
      "text/plain": [
       "4"
      ]
     },
     "execution_count": 17,
     "metadata": {},
     "output_type": "execute_result"
    }
   ],
   "source": [
    "number_of_matches(\"ACCTGA\",\"ACTTCA\") "
   ]
  },
  {
   "cell_type": "code",
   "execution_count": 18,
   "metadata": {},
   "outputs": [],
   "source": [
    "def find_approximate_matches(list_of_reads,genome):\n",
    "    #start code here\n",
    "    dna_list = [{'id':k[0], 'seq': ''.join(k[1:])} for k in [x.split('\\n') for x in genome.split('>chr') if x]]\n",
    "    def num_match(i, dna_seq, pattern):\n",
    "        return number_of_matches(dna_seq[i:i+len(pattern)], pattern)\n",
    "    results = []\n",
    "    for pattern in list_of_reads:\n",
    "        match_score_list = []\n",
    "        for dna in dna_list:\n",
    "            match_score = np.asarray(list(map(lambda i: num_match(i, dna['seq'], pattern), range(len(dna['seq'])-len(pattern)+1))))\n",
    "            match_score_list.append(match_score)\n",
    "#         dna_match_list = [['chr{}:{} (match {})'.format(dna['id'], pos+1, miss_cnt) for pos in np.where(match_score == miss_cnt)[0].tolist()]\n",
    "        dna_match_list = [['chr{}:{}'.format(dna['id'], pos+1) for pos in np.where(match_score == miss_cnt)[0].tolist()]\n",
    "                          for miss_cnt in range(len(pattern), len(pattern)-3-1, -1) # at most 3 (0 <= miss_cnt <= 3)\n",
    "                          for dna, match_score in zip(dna_list, match_score_list)\n",
    "                          if len(np.where(match_score == miss_cnt)[0].tolist()) > 0]            \n",
    "        dna_match_list = [x[0] for x in dna_match_list]\n",
    "#         print(dna_match_list)\n",
    "        results.append(dna_match_list)\n",
    "    return results\n",
    "\n",
    "    #end code here"
   ]
  },
  {
   "cell_type": "code",
   "execution_count": 19,
   "metadata": {},
   "outputs": [
    {
     "name": "stdout",
     "output_type": "stream",
     "text": [
      "[['chr2:3', 'chr2:9'], ['chr3:1', 'chr2:9', 'chr2:7', 'chr2:5']]\n"
     ]
    }
   ],
   "source": [
    "print(find_approximate_matches([\"GATTTACA\",\"CACACACA\"],fakegenome_file))"
   ]
  },
  {
   "cell_type": "markdown",
   "metadata": {},
   "source": [
    "### Expected Output - \n",
    "\n",
    "``[['chr2:3', 'chr2:9'], ['chr2:9', 'chr3:1', 'chr2:7', 'chr2:5']]``"
   ]
  },
  {
   "cell_type": "code",
   "execution_count": 20,
   "metadata": {},
   "outputs": [
    {
     "name": "stdout",
     "output_type": "stream",
     "text": [
      "[['chr6:10002', 'chr14:11909'], ['chr12:30122'], ['chr4:100351']]\n"
     ]
    }
   ],
   "source": [
    "read0 = \"TGCAGATTGCTCCTACGCTTGACAATGTCGGATCCGATACCGATCTGATTCATATCGATACAGTTAGTGCCATTAACGAGCAATTTCTAAGACTGCACTG\"\n",
    "read1 = \"ACGTAAAAAATGTAGCAGACTCGATCTCCTCTTCTGATGAAATCCTAGTTCCTTCGAGACTCGCTGATGTTACGCTAGCATTCATGGAGGAGAATGACGC\"\n",
    "read2 = \"AAGTGGAAAGAAAGAAGGGTGACAAGTTCGTCGCTTGTTTCACAAGATTACCAACGCCAGCCATATTGTAACATAGATGTATAACTAGAACAATTTACCA\"\n",
    "\n",
    "list_of_reads = [read0,read1,read2]\n",
    "\n",
    "print(find_approximate_matches(list_of_reads,saccha_file))"
   ]
  },
  {
   "cell_type": "markdown",
   "metadata": {},
   "source": [
    "### Expected Output - \n",
    "\n",
    "``[['chr6:10002', 'chr14:11909'], ['chr12:30122'], ['chr4:100351']]``"
   ]
  }
 ],
 "metadata": {
  "kernelspec": {
   "display_name": "Python 3",
   "language": "python",
   "name": "python3"
  },
  "language_info": {
   "codemirror_mode": {
    "name": "ipython",
    "version": 3
   },
   "file_extension": ".py",
   "mimetype": "text/x-python",
   "name": "python",
   "nbconvert_exporter": "python",
   "pygments_lexer": "ipython3",
   "version": "3.7.9"
  }
 },
 "nbformat": 4,
 "nbformat_minor": 2
}
