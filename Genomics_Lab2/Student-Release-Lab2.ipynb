{
 "cells": [
  {
   "cell_type": "markdown",
   "metadata": {},
   "source": [
    "# Lab 2: Sequence Alignment"
   ]
  },
  {
   "cell_type": "markdown",
   "metadata": {},
   "source": [
    "### Name: Hyun Do Jung (hjung35)"
   ]
  },
  {
   "cell_type": "markdown",
   "metadata": {},
   "source": [
    "### Due November 18, 2020 11:59 PM"
   ]
  },
  {
   "cell_type": "markdown",
   "metadata": {},
   "source": [
    "#### Preamble (Don't change this)"
   ]
  },
  {
   "cell_type": "code",
   "execution_count": 2,
   "metadata": {},
   "outputs": [],
   "source": [
    "import re\n",
    "import random\n",
    "import matplotlib.pyplot as plt\n",
    "import seaborn as sns\n",
    "import pandas as pd\n",
    "import statsmodels.api as sm \n",
    "import numpy as np"
   ]
  },
  {
   "cell_type": "markdown",
   "metadata": {},
   "source": [
    "# Sequence Alignment"
   ]
  },
  {
   "cell_type": "markdown",
   "metadata": {},
   "source": [
    "In this lab, we will look into performing sequence alignment between genomic sequences.\n",
    "As we discussed in class, this is a key computational task in genomics.\n",
    "In particular, sequence alignment is used in the following two scenarios:\n",
    "* When we sequence the DNA of an organism that we have never sequenced before, we need to align the reads to each other in order to recover the entire genome.\n",
    "* When we sequence the DNA of an organism for which a reference genome is available (e.g., humans), we need to align the reads to the reference genome.\n",
    "\n",
    "Abstractly, in the sequence alignment problem, we are given two sequences $x$ and $y$, and we want to place gaps (represented by ‘-’) in $x$ and $y$ so that the resulting sequences “line up well”.\n",
    "For example, if $x = AGGCTAGTT$ and $y = AGCGAAGTTT$, a \"good\" alignment is \n",
    "\n",
    "``AGGC-TA-GTT-\n",
    "AG-CG-AAGTTT``\n",
    "\n",
    "As we discussed in class, the Smith-Waterman algorithm assigns scores/penalties to matches, mismatches, and gaps gaps, and then computes the alignment between the two sequences that maximizes the total score.\n",
    "\n",
    "The Smith-Waterman algorithm performs *local* sequence alignment. This means that we are looking for a substring of x and a substring of y with the largest possible alignment score.\n",
    "For example, if our scores are +1 for match, -1 for mismatch, -1 for gap and we want to align $x = CCCCGATTACAGGGG$ and $y = GGGGGATACACCCC$, then the best possible local alignment is\n",
    "\n",
    "``GATTACA\n",
    "GAT_ACA``\n",
    "\n",
    "which has score 6-1=5. Notice that the gaps in the beginning and in the end don't \n"
   ]
  },
  {
   "cell_type": "markdown",
   "metadata": {},
   "source": [
    "### PacBio data\n",
    "\n",
    "We will start with the same PacBio data from Lab 1. \n",
    "PacBio reads are typically long, and aligning them can be challenging in practice.\n",
    "The next three three cells (from Lab 1) load the PacBio data."
   ]
  },
  {
   "cell_type": "code",
   "execution_count": 3,
   "metadata": {},
   "outputs": [],
   "source": [
    "#reading PacBio data\n",
    "reads_pac=\"\"\n",
    "with open(\"ecoli_pac-bio.fasta\") as file :\n",
    "    reads_pac=file.read()"
   ]
  },
  {
   "cell_type": "code",
   "execution_count": 4,
   "metadata": {},
   "outputs": [],
   "source": [
    "#parsing PacBio data\n",
    "def parse_reads_pac(reads) :\n",
    "    line_reads_pac=reads_pac.split(\"\\n\")\n",
    "    line_reads_pac.pop()\n",
    "    n_pac=len(line_reads_pac)\n",
    "    i=0\n",
    "    dna_reads_pac=[]\n",
    "    while i < n_pac :\n",
    "        j=i+1\n",
    "        dr=\"\"\n",
    "        while j < n_pac  and line_reads_pac[j][0]!='>' :\n",
    "            dr+=line_reads_pac[j]\n",
    "            j+=1\n",
    "        dna_reads_pac.append(dr.upper())\n",
    "        i=j\n",
    "    return dna_reads_pac"
   ]
  },
  {
   "cell_type": "code",
   "execution_count": 5,
   "metadata": {},
   "outputs": [],
   "source": [
    "dna_reads_pac=parse_reads_pac(reads_pac)"
   ]
  },
  {
   "cell_type": "markdown",
   "metadata": {},
   "source": [
    "## Graded Function 1: smith_waterman_alignment  (10 marks)\n",
    "\n",
    "Purpose - To perform local sequence alignment between two DNA sequences and identify sequence similarity using the Smith-Waterman algorithm. You should calculate alignment score between every two points in the sequences and record the maximum score.\n",
    "\n",
    "Input - two sequences and a dictionary with penalties for match, mismatch and gap (e.g., `penalties={'match':1,'mismatch':-1,'gap':-1}`)\n",
    "\n",
    "Output - maximum Smith-Waterman local alignment score"
   ]
  },
  {
   "cell_type": "code",
   "execution_count": 32,
   "metadata": {},
   "outputs": [],
   "source": [
    "#calculating smith waterman alignment between 2 reads\n",
    "def smith_waterman_alignment(s1,s2,penalties) :\n",
    "    '''\n",
    "    Input - two sequences and a dictionary with penalities for match, mismatch and gap\n",
    "    Output - maximum smith waterman alignment score\n",
    "    '''\n",
    "    #start code here\n",
    "    H = np.zeros((len(s1)+1, len(s2)+1))\n",
    "    \n",
    "    for i in range(1, len(s1)+1):\n",
    "        for j in range(1, len(s2)+1):\n",
    "          # The score for substituting the letter a[i-1] for b[j-1]. Generally low\n",
    "          # for mismatch, high for match.\n",
    "          match = H[i-1,j-1] + (penalties['match'] if s1[i-1] == s2[j-1] else 0)\n",
    "\n",
    "          # The scores for for introducing extra letters in one of the strings (or\n",
    "          # by symmetry, deleting them from the other).\n",
    "\n",
    "          delete = H[1:i,j].max() - penalties['gap'] if i > 1 else 0\n",
    "          insert = H[i,1:j].max() - penalties['gap'] if j > 1 else 0\n",
    "\n",
    "          H[i,j] = max(match, delete, insert, 0)\n",
    "\n",
    "    return H.max()\n",
    "    #end code here"
   ]
  },
  {
   "cell_type": "code",
   "execution_count": 33,
   "metadata": {},
   "outputs": [],
   "source": [
    "penalties={'match':1,'mismatch':-1,'gap':-1}"
   ]
  },
  {
   "cell_type": "code",
   "execution_count": 34,
   "metadata": {},
   "outputs": [
    {
     "ename": "KeyboardInterrupt",
     "evalue": "",
     "output_type": "error",
     "traceback": [
      "\u001b[0;31m---------------------------------------------------------------------------\u001b[0m",
      "\u001b[0;31mKeyboardInterrupt\u001b[0m                         Traceback (most recent call last)",
      "\u001b[0;32m<ipython-input-34-b2edcfe6725c>\u001b[0m in \u001b[0;36m<module>\u001b[0;34m\u001b[0m\n\u001b[1;32m      1\u001b[0m \u001b[0;31m# Note this may take some time to compute\u001b[0m\u001b[0;34m\u001b[0m\u001b[0;34m\u001b[0m\u001b[0;34m\u001b[0m\u001b[0m\n\u001b[0;32m----> 2\u001b[0;31m \u001b[0mprint\u001b[0m\u001b[0;34m(\u001b[0m\u001b[0msmith_waterman_alignment\u001b[0m\u001b[0;34m(\u001b[0m\u001b[0mdna_reads_pac\u001b[0m\u001b[0;34m[\u001b[0m\u001b[0;36m0\u001b[0m\u001b[0;34m]\u001b[0m\u001b[0;34m,\u001b[0m\u001b[0mdna_reads_pac\u001b[0m\u001b[0;34m[\u001b[0m\u001b[0;36m1\u001b[0m\u001b[0;34m]\u001b[0m\u001b[0;34m,\u001b[0m\u001b[0mpenalties\u001b[0m\u001b[0;34m)\u001b[0m\u001b[0;34m)\u001b[0m\u001b[0;34m\u001b[0m\u001b[0;34m\u001b[0m\u001b[0m\n\u001b[0m\u001b[1;32m      3\u001b[0m \u001b[0mprint\u001b[0m\u001b[0;34m(\u001b[0m\u001b[0msmith_waterman_alignment\u001b[0m\u001b[0;34m(\u001b[0m\u001b[0mdna_reads_pac\u001b[0m\u001b[0;34m[\u001b[0m\u001b[0;36m4\u001b[0m\u001b[0;34m]\u001b[0m\u001b[0;34m,\u001b[0m\u001b[0mdna_reads_pac\u001b[0m\u001b[0;34m[\u001b[0m\u001b[0;36m9\u001b[0m\u001b[0;34m]\u001b[0m\u001b[0;34m,\u001b[0m\u001b[0mpenalties\u001b[0m\u001b[0;34m)\u001b[0m\u001b[0;34m)\u001b[0m\u001b[0;34m\u001b[0m\u001b[0;34m\u001b[0m\u001b[0m\n",
      "\u001b[0;32m<ipython-input-32-240704613d90>\u001b[0m in \u001b[0;36msmith_waterman_alignment\u001b[0;34m(s1, s2, penalties)\u001b[0m\n\u001b[1;32m     17\u001b[0m           \u001b[0;31m# by symmetry, deleting them from the other).\u001b[0m\u001b[0;34m\u001b[0m\u001b[0;34m\u001b[0m\u001b[0;34m\u001b[0m\u001b[0m\n\u001b[1;32m     18\u001b[0m \u001b[0;34m\u001b[0m\u001b[0m\n\u001b[0;32m---> 19\u001b[0;31m           \u001b[0mdelete\u001b[0m \u001b[0;34m=\u001b[0m \u001b[0mH\u001b[0m\u001b[0;34m[\u001b[0m\u001b[0;36m1\u001b[0m\u001b[0;34m:\u001b[0m\u001b[0mi\u001b[0m\u001b[0;34m,\u001b[0m\u001b[0mj\u001b[0m\u001b[0;34m]\u001b[0m\u001b[0;34m.\u001b[0m\u001b[0mmax\u001b[0m\u001b[0;34m(\u001b[0m\u001b[0;34m)\u001b[0m \u001b[0;34m-\u001b[0m \u001b[0mpenalties\u001b[0m\u001b[0;34m[\u001b[0m\u001b[0;34m'gap'\u001b[0m\u001b[0;34m]\u001b[0m \u001b[0;32mif\u001b[0m \u001b[0mi\u001b[0m \u001b[0;34m>\u001b[0m \u001b[0;36m1\u001b[0m \u001b[0;32melse\u001b[0m \u001b[0;36m0\u001b[0m\u001b[0;34m\u001b[0m\u001b[0;34m\u001b[0m\u001b[0m\n\u001b[0m\u001b[1;32m     20\u001b[0m           \u001b[0minsert\u001b[0m \u001b[0;34m=\u001b[0m \u001b[0mH\u001b[0m\u001b[0;34m[\u001b[0m\u001b[0mi\u001b[0m\u001b[0;34m,\u001b[0m\u001b[0;36m1\u001b[0m\u001b[0;34m:\u001b[0m\u001b[0mj\u001b[0m\u001b[0;34m]\u001b[0m\u001b[0;34m.\u001b[0m\u001b[0mmax\u001b[0m\u001b[0;34m(\u001b[0m\u001b[0;34m)\u001b[0m \u001b[0;34m-\u001b[0m \u001b[0mpenalties\u001b[0m\u001b[0;34m[\u001b[0m\u001b[0;34m'gap'\u001b[0m\u001b[0;34m]\u001b[0m \u001b[0;32mif\u001b[0m \u001b[0mj\u001b[0m \u001b[0;34m>\u001b[0m \u001b[0;36m1\u001b[0m \u001b[0;32melse\u001b[0m \u001b[0;36m0\u001b[0m\u001b[0;34m\u001b[0m\u001b[0;34m\u001b[0m\u001b[0m\n\u001b[1;32m     21\u001b[0m \u001b[0;34m\u001b[0m\u001b[0m\n",
      "\u001b[0;32m/opt/anaconda3/envs/myenv/lib/python3.7/site-packages/numpy/core/_methods.py\u001b[0m in \u001b[0;36m_amax\u001b[0;34m(a, axis, out, keepdims, initial, where)\u001b[0m\n\u001b[1;32m     37\u001b[0m def _amax(a, axis=None, out=None, keepdims=False,\n\u001b[1;32m     38\u001b[0m           initial=_NoValue, where=True):\n\u001b[0;32m---> 39\u001b[0;31m     \u001b[0;32mreturn\u001b[0m \u001b[0mumr_maximum\u001b[0m\u001b[0;34m(\u001b[0m\u001b[0ma\u001b[0m\u001b[0;34m,\u001b[0m \u001b[0maxis\u001b[0m\u001b[0;34m,\u001b[0m \u001b[0;32mNone\u001b[0m\u001b[0;34m,\u001b[0m \u001b[0mout\u001b[0m\u001b[0;34m,\u001b[0m \u001b[0mkeepdims\u001b[0m\u001b[0;34m,\u001b[0m \u001b[0minitial\u001b[0m\u001b[0;34m,\u001b[0m \u001b[0mwhere\u001b[0m\u001b[0;34m)\u001b[0m\u001b[0;34m\u001b[0m\u001b[0;34m\u001b[0m\u001b[0m\n\u001b[0m\u001b[1;32m     40\u001b[0m \u001b[0;34m\u001b[0m\u001b[0m\n\u001b[1;32m     41\u001b[0m def _amin(a, axis=None, out=None, keepdims=False,\n",
      "\u001b[0;31mKeyboardInterrupt\u001b[0m: "
     ]
    }
   ],
   "source": [
    "# Note this may take some time to compute\n",
    "print(smith_waterman_alignment(dna_reads_pac[0],dna_reads_pac[1],penalties))\n",
    "print(smith_waterman_alignment(dna_reads_pac[4],dna_reads_pac[9],penalties))"
   ]
  },
  {
   "cell_type": "markdown",
   "metadata": {},
   "source": [
    "### Expected Output - \n",
    "\n",
    "744\n",
    "\n",
    "1566"
   ]
  },
  {
   "cell_type": "markdown",
   "metadata": {},
   "source": [
    "As you noticed, finding the optimal alignment between two long PacBio reads takes a while. \n",
    "Imagine doing this for hundreds of thousands of reads!\n",
    "Some of the indexing techniques that we will explore later in this lab can be used in practice to accelerate this process."
   ]
  },
  {
   "cell_type": "markdown",
   "metadata": {},
   "source": [
    "## Graded Function 2: print_smith_waterman_alignment  (10 marks)\n",
    "\n",
    "Purpose - To perform local sequence alignment between two DNA sequences and print the resulting alignment in a nice fashion, like:\n",
    "\n",
    "``AGGC-TA-GTT-\n",
    "AG-CG-AAGTTT``\n",
    "\n",
    "Input - two sequences and a dictionary with penalities for match, mismatch and gap\n",
    "\n",
    "Output - two printed lines showing the two sequences with '-' representing the gaps"
   ]
  },
  {
   "cell_type": "code",
   "execution_count": 198,
   "metadata": {
    "collapsed": true
   },
   "outputs": [],
   "source": [
    "#printing optimal alignment between two sequences\n",
    "def print_smith_waterman_alignment(s1,s2,penalties) :\n",
    "    '''\n",
    "    Input - two sequences and a dictionary with penalities for match, mismatch and gap\n",
    "    Output - two printed lines showing the alignment\n",
    "    '''\n",
    "    #start code here\n",
    "    \n",
    "    #end code here"
   ]
  },
  {
   "cell_type": "code",
   "execution_count": 2,
   "metadata": {
    "collapsed": true
   },
   "outputs": [],
   "source": [
    "x = \"MISPEL\"\n",
    "y = \"MISSPELL\"\n",
    "print_smith_waterman_alignment(x,y,penalties)"
   ]
  },
  {
   "cell_type": "markdown",
   "metadata": {},
   "source": [
    "### Expected Output - \n",
    "\n",
    "``MIS-PEL\n",
    "MISSPEL``\n",
    "\n",
    "or \n",
    "\n",
    "``MI-SPEL\n",
    "MISSPEL``"
   ]
  },
  {
   "cell_type": "code",
   "execution_count": 3,
   "metadata": {
    "collapsed": true
   },
   "outputs": [],
   "source": [
    "penalties={'match':1,'mismatch':-1,'gap':-1}\n",
    "\n",
    "x = \"CTCGCAATATGCTAGCAGC\"\n",
    "y = \"GATCGCAATCTGCAGTCCG\"\n",
    "print_smith_waterman_alignment(x,y,penalties)"
   ]
  },
  {
   "cell_type": "markdown",
   "metadata": {},
   "source": [
    "### Expected Output - \n",
    "\n",
    "``TCGCAATATGCTAG\n",
    "TCGCAATCTGC-AG``"
   ]
  },
  {
   "cell_type": "markdown",
   "metadata": {},
   "source": [
    "# Aligning reads to a (long) genome\n",
    "\n",
    "While the Smith-Waterman algorithm can provide local alignments between two sequences of arbitrary lengths, it is too slow to be used to align reads to a long genome.\n",
    "As we discussed in class, when we are trying to align reads to a long genome, we typically rely on an indexing scheme (based on hash functions, or a Python dictionary) to quickly identify matches."
   ]
  },
  {
   "cell_type": "markdown",
   "metadata": {},
   "source": [
    "We will consider two genome files.\n",
    "The first one is a short fake genome in the file \"fakegenome.fasta\".\n",
    "\n",
    "The second one is the *Saccharomyces cerevisiae* (Brewer's yeast) genome.\n",
    "The *S. cerevisiae* genome was the first eukaryotic genome to be fully sequenced.\n",
    "It contains 16 chromosomes for a total genome length of about 12 million base-pairs."
   ]
  },
  {
   "cell_type": "code",
   "execution_count": 90,
   "metadata": {
    "collapsed": true
   },
   "outputs": [],
   "source": [
    "fakegenome_file=\"\"\n",
    "with open(\"fakegenome.fasta\") as file:\n",
    "    fakegenome_file=file.read()\n",
    "\n",
    "saccha_file=\"\"\n",
    "with open(\"saccha.fasta\") as file:\n",
    "    saccha_file=file.read()"
   ]
  },
  {
   "cell_type": "code",
   "execution_count": 92,
   "metadata": {},
   "outputs": [
    {
     "name": "stdout",
     "output_type": "stream",
     "text": [
      ">chr1\n",
      "GATTACA\n",
      ">chr2\n",
      "CAGATTTACACATACA\n",
      ">chr3\n",
      "CACACACA\n",
      "\n",
      "\n",
      ">chr1\n",
      "CCACACCACACCCACACACCCACACACCACACCACACACCACACCACACCCACACACACA\n",
      "CATCCTAACACTACCCTAACACAGCCCTAATCTAACCCTGGCCAACCTGTCTCTCAACTT\n",
      "ACCCTCCATTACCCTGCCTCCACTCGTTACCCTGTCCCATTCAACCATACCACTCCGAAC\n",
      "CACCATCCATCCCTCTACTTACTACCACTCACCCACCGTTACCCTCCAATTACCCATATC\n",
      "CAACCCACTGCCACTTACCCTACCATTACCCTACCATCCACCATGACCTA\n"
     ]
    }
   ],
   "source": [
    "# let's print the fakegenome file and the beginning of the S. cerevisiae file:\n",
    "\n",
    "print(fakegenome_file)\n",
    "print()\n",
    "print(saccha_file[:300])"
   ]
  },
  {
   "cell_type": "markdown",
   "metadata": {},
   "source": [
    "Notice that the chromosomes are separated by a line that only contains \">chrN\", where N is the chromosome number"
   ]
  },
  {
   "cell_type": "markdown",
   "metadata": {},
   "source": [
    "## Graded Function 3 : find_exact_matches(list_of_reads,genome_file) (10 marks)\n",
    "\n",
    "Pupose - To check whether each of the reads in list_of_reads is present (exactly) somewhere in the genome and, if so, return the location. The location should be specified as \"chr2:120000\" (for a read that starts at position 120000 of chromosome 2)\n",
    "\n",
    "Input - list of reads **of the same length** and a genome fasta file (converted into a single string)\n",
    "\n",
    "Output - a list with the same length as list_of_reads, where the ith element is a list of all locations (starting positions) in the genome where the ith read appears. The starting positions should be specified using the \"chr2:120000\" format\n",
    "\n",
    "Note - Avoid using Python packages and built-in functions to do search operations (such as the find function). The goal of this problem is for you to understand how genome indices can be built to help finding matches."
   ]
  },
  {
   "cell_type": "code",
   "execution_count": 88,
   "metadata": {
    "collapsed": true
   },
   "outputs": [],
   "source": [
    "def find_exact_matches(list_of_reads,genome):\n",
    "    #start code here\n",
    "    #end code here"
   ]
  },
  {
   "cell_type": "code",
   "execution_count": 4,
   "metadata": {
    "collapsed": true
   },
   "outputs": [],
   "source": [
    "list_of_fake_reads = ['GATT','TACA','CACA']\n",
    "print(find_exact_matches(list_of_fake_reads,fakegenome_file))"
   ]
  },
  {
   "cell_type": "markdown",
   "metadata": {},
   "source": [
    "### Expected Output - \n",
    "\n",
    "``[['chr1:1', 'chr2:3'], ['chr1:4', 'chr2:7', 'chr2:13'], ['chr2:9', 'chr3:1', 'chr3:3', 'chr3:5']]``"
   ]
  },
  {
   "cell_type": "code",
   "execution_count": 5,
   "metadata": {
    "collapsed": true
   },
   "outputs": [],
   "source": [
    "read0 = \"CCACACCACACCCACACACCCACACACCACACCACACACCACACCACACC\"\n",
    "read1 = \"CACACCACACCACACCCACACACACACATCCTAACACTACCCTAACACAG\"\n",
    "read2 = \"CTCGCTGTCACTCCTTACCCGGCTTTCTGACCGAAATTAAAAAAAAAAAA\"\n",
    "read3 = \"TTTAAACTTACGATTATGTGATTTGATGAGGTCAATCAACAGATTAACCA\"\n",
    "read4 = \"CTGTATGGCTATACGATTATGTGGGCTACCAACAGATTGGTCACTTTCCT\"\n",
    "read5 = \"GGGTCCGATGTTGGATTGAAATCCCAAGGTGCTATTTCTATATTTATATA\"\n",
    "list_of_reads = [read0,read1,read2,read3,read4]\n",
    "\n",
    "print(find_exact_matches(list_of_reads,saccha_file))"
   ]
  },
  {
   "cell_type": "markdown",
   "metadata": {},
   "source": [
    "# Aligning reads with errors/mutations to a (long) genome\n",
    "\n",
    "When the reads may have discrepancies with respect to the reference genome (which could be sequencing errors or mutations), we need to be more clever with our indexing.\n",
    "\n",
    "In the following, we will assume that each read can have at most **3** substitution errors with respect to the reference (i.e., at most three symbols may have been swapped).\n",
    "We will use the same two genome files (fakegenome_file and saccha_file) from above."
   ]
  },
  {
   "cell_type": "markdown",
   "metadata": {},
   "source": [
    "## Graded Function 4 : find_approximate_matches(list_of_reads,genome_file)(10 marks)\n",
    "\n",
    "Pupose - To check whether each of the reads in list_of_reads is present somewhere in the genome allowing at most **3** symbol differences and, if so, return the location. The location should be specified as \"chr2:120000\" (for a read that starts at position 120000 of chromosome 2)\n",
    "\n",
    "Input - list of reads **of the same length** and a genome fasta file (converted into a single string)\n",
    "\n",
    "Output - a list with the same length as list_of_reads, where the ith element is a list of all locations (starting positions) in the genome where the ith read appears approximately (up to 3 base differences)"
   ]
  },
  {
   "cell_type": "markdown",
   "metadata": {},
   "source": [
    "Note: to simplify the function below, you can assume that the read length is divisible by 4."
   ]
  },
  {
   "cell_type": "code",
   "execution_count": 201,
   "metadata": {
    "collapsed": true
   },
   "outputs": [],
   "source": [
    "# You may want to use the following function (number_of_matches) in your graded function.\n",
    "# It assumes x and y have the same length and returns the number of positions where they agree\n",
    "#\n",
    "# e.g., number_of_matches(\"ACCTGA\",\"ACTTCA\") returns 4\n",
    "\n",
    "def number_of_matches(x,y):\n",
    "    \n",
    "    assert(len(x) == len(y)) # throw error if the lengths are different\n",
    "    \n",
    "    return sum([int(x[i]==y[i]) for i in range(len(x))])"
   ]
  },
  {
   "cell_type": "code",
   "execution_count": 6,
   "metadata": {
    "collapsed": true
   },
   "outputs": [],
   "source": [
    "number_of_matches(\"ACCTGA\",\"ACTTCA\") "
   ]
  },
  {
   "cell_type": "code",
   "execution_count": 203,
   "metadata": {
    "collapsed": true
   },
   "outputs": [],
   "source": [
    "def find_approximate_matches(list_of_reads,genome):\n",
    "    #start code here\n",
    "    #end code here"
   ]
  },
  {
   "cell_type": "code",
   "execution_count": 7,
   "metadata": {
    "collapsed": true
   },
   "outputs": [],
   "source": [
    "print(find_approximate_matches([\"GATTTACA\",\"CACACACA\"],fakegenome_file))"
   ]
  },
  {
   "cell_type": "markdown",
   "metadata": {},
   "source": [
    "### Expected Output - \n",
    "\n",
    "``[['chr2:3', 'chr2:9'], ['chr2:9', 'chr3:1', 'chr2:7', 'chr2:5']]``"
   ]
  },
  {
   "cell_type": "code",
   "execution_count": 8,
   "metadata": {
    "collapsed": true
   },
   "outputs": [],
   "source": [
    "read0 = \"TGCAGATTGCTCCTACGCTTGACAATGTCGGATCCGATACCGATCTGATTCATATCGATACAGTTAGTGCCATTAACGAGCAATTTCTAAGACTGCACTG\"\n",
    "read1 = \"ACGTAAAAAATGTAGCAGACTCGATCTCCTCTTCTGATGAAATCCTAGTTCCTTCGAGACTCGCTGATGTTACGCTAGCATTCATGGAGGAGAATGACGC\"\n",
    "read2 = \"AAGTGGAAAGAAAGAAGGGTGACAAGTTCGTCGCTTGTTTCACAAGATTACCAACGCCAGCCATATTGTAACATAGATGTATAACTAGAACAATTTACCA\"\n",
    "\n",
    "list_of_reads = [read0,read1,read2]\n",
    "\n",
    "print(find_approximate_matches(list_of_reads,saccha_file))"
   ]
  },
  {
   "cell_type": "markdown",
   "metadata": {},
   "source": [
    "### Expected Output - \n",
    "\n",
    "``[['chr6:10002', 'chr14:11909'], ['chr12:30122'], ['chr4:100351']]``"
   ]
  }
 ],
 "metadata": {
  "kernelspec": {
   "display_name": "Python 3",
   "language": "python",
   "name": "python3"
  },
  "language_info": {
   "codemirror_mode": {
    "name": "ipython",
    "version": 3
   },
   "file_extension": ".py",
   "mimetype": "text/x-python",
   "name": "python",
   "nbconvert_exporter": "python",
   "pygments_lexer": "ipython3",
   "version": "3.7.9"
  }
 },
 "nbformat": 4,
 "nbformat_minor": 2
}
