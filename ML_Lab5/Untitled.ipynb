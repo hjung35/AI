{
 "cells": [
  {
   "cell_type": "code",
   "execution_count": 26,
   "metadata": {},
   "outputs": [
    {
     "name": "stdout",
     "output_type": "stream",
     "text": [
      "[[  4  20   6  12]\n",
      " [ 10   3   4   5]\n",
      " [  1   5  21  40]\n",
      " [100  30   2   3]]\n",
      "\n",
      "[[  4  20   6  12]\n",
      " [ 10   3   4   5]\n",
      " [  1   5  21  40]\n",
      " [100  30   2   3]]\n"
     ]
    }
   ],
   "source": [
    "import numpy as np\n",
    "\n",
    "W = np.array([[4,20, 6, 12],[10,3, 4, 5],[1,5, 21, 40], [100,30, 2, 3]])    \n",
    "print(W, end ='\\n\\n')\n",
    "k = 1\n",
    "Wk = W[0:5,:]\n",
    "print(Wk)\n",
    "\n"
   ]
  },
  {
   "cell_type": "code",
   "execution_count": 27,
   "metadata": {},
   "outputs": [],
   "source": [
    "image = np.zeros( (8,64,64) )"
   ]
  },
  {
   "cell_type": "code",
   "execution_count": 29,
   "metadata": {},
   "outputs": [
    {
     "name": "stdout",
     "output_type": "stream",
     "text": [
      "(8, 64, 64)\n"
     ]
    }
   ],
   "source": [
    "print(image.shape)"
   ]
  },
  {
   "cell_type": "code",
   "execution_count": 31,
   "metadata": {},
   "outputs": [],
   "source": [
    "i_vals = np.concatenate((np.asarray([1]),np.arange(10,110,step=10), np.arange(120,220,step=20)))\n"
   ]
  },
  {
   "cell_type": "code",
   "execution_count": 32,
   "metadata": {},
   "outputs": [
    {
     "name": "stdout",
     "output_type": "stream",
     "text": [
      "[  1  10  20  30  40  50  60  70  80  90 100 120 140 160 180 200]\n"
     ]
    }
   ],
   "source": [
    "print(i_vals)"
   ]
  },
  {
   "cell_type": "code",
   "execution_count": null,
   "metadata": {},
   "outputs": [],
   "source": [
    "i_s = [1, 10, 20, 30, 40, 50, 60, 70, 80, 90, 100, 120, 140, 160, 180, 200]\n",
    "\n",
    "for k, i in enumerate(i_s):\n",
    "    pca = PCA(n_components=i)\n",
    "    pca.fit(X)\n",
    "    \n",
    "    restored = pca.inverse_transform(pca.transform(X_t))\n",
    "    \n",
    "    plt.title(\"ith: \", i)\n",
    "    figure()\n",
    "    imshow(restored.reshape((h,w)), cmap=cm.Greys_r)"
   ]
  }
 ],
 "metadata": {
  "kernelspec": {
   "display_name": "Python 3",
   "language": "python",
   "name": "python3"
  },
  "language_info": {
   "codemirror_mode": {
    "name": "ipython",
    "version": 3
   },
   "file_extension": ".py",
   "mimetype": "text/x-python",
   "name": "python",
   "nbconvert_exporter": "python",
   "pygments_lexer": "ipython3",
   "version": "3.8.3"
  }
 },
 "nbformat": 4,
 "nbformat_minor": 4
}
